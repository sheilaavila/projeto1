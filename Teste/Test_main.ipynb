{
 "cells": [
  {
   "cell_type": "markdown",
   "id": "6741bf99-db3a-4537-a896-45c7552b0f36",
   "metadata": {},
   "source": [
    "# Módulo Principal"
   ]
  },
  {
   "cell_type": "code",
   "execution_count": 5,
   "id": "17c08343-bf6d-481d-b602-c8589df4ae5c",
   "metadata": {
    "tags": []
   },
   "outputs": [],
   "source": [
    "# Importação dos módulos\n",
    "\n",
    "import test_es\n",
    "import test_proc\n"
   ]
  },
  {
   "cell_type": "code",
   "execution_count": 6,
   "id": "d4ef0d42-9764-4708-9e66-21606cd44a8a",
   "metadata": {
    "tags": []
   },
   "outputs": [
    {
     "name": "stdin",
     "output_type": "stream",
     "text": [
      "digite o primeiro número 1 que deseja operar 2\n",
      "digite o primeiro número 2 que deseja operar 3\n",
      "Digite a operação que deseja realizar.\n",
      "Pressione + para adição;\n",
      "- para subtração;\n",
      "* para multiplicação;\n",
      "/ para divisão *\n"
     ]
    },
    {
     "data": {
      "text/plain": [
       "[[2.0, 3.0], '*']"
      ]
     },
     "execution_count": 6,
     "metadata": {},
     "output_type": "execute_result"
    }
   ],
   "source": [
    "test_es.leitora()"
   ]
  },
  {
   "cell_type": "code",
   "execution_count": 8,
   "id": "5e4129f8-0518-4612-a409-7f9763fb3767",
   "metadata": {
    "tags": []
   },
   "outputs": [
    {
     "ename": "NameError",
     "evalue": "name 'dados' is not defined",
     "output_type": "error",
     "traceback": [
      "\u001b[1;31m---------------------------------------------------------------------------\u001b[0m",
      "\u001b[1;31mNameError\u001b[0m                                 Traceback (most recent call last)",
      "Cell \u001b[1;32mIn[8], line 1\u001b[0m\n\u001b[1;32m----> 1\u001b[0m \u001b[38;5;28;01mif\u001b[39;00m dados[\u001b[38;5;241m1\u001b[39m] \u001b[38;5;241m==\u001b[39m \u001b[38;5;124m\"\u001b[39m\u001b[38;5;124m+\u001b[39m\u001b[38;5;124m\"\u001b[39m:\n\u001b[0;32m      2\u001b[0m     resultado \u001b[38;5;241m=\u001b[39m test_proc\u001b[38;5;241m.\u001b[39msomadora(dados[\u001b[38;5;241m0\u001b[39m], dados[\u001b[38;5;241m1\u001b[39m])\n",
      "\u001b[1;31mNameError\u001b[0m: name 'dados' is not defined"
     ]
    }
   ],
   "source": [
    "if dados[1] == \"+\":\n",
    "    resultado = test_proc.somadora(dados[0], dados[1])\n",
    "    "
   ]
  },
  {
   "cell_type": "code",
   "execution_count": 10,
   "id": "3aa9bab2-09d2-4ae2-99e0-4bcd7cb7b170",
   "metadata": {
    "tags": []
   },
   "outputs": [
    {
     "name": "stdin",
     "output_type": "stream",
     "text": [
      "digite o primeiro número 1 que deseja operar 2\n",
      "digite o primeiro número 2 que deseja operar 3\n",
      "Digite a operação que deseja realizar.\n",
      "Pressione + para adição;\n",
      "- para subtração;\n",
      "* para multiplicação;\n",
      "/ para divisão *\n"
     ]
    }
   ],
   "source": [
    "dados = test_es.leitora()"
   ]
  },
  {
   "cell_type": "code",
   "execution_count": 16,
   "id": "88af237f-dc74-4fa9-a52b-f35c6a5566d2",
   "metadata": {
    "tags": []
   },
   "outputs": [],
   "source": [
    "if dados[1] == \"+\":\n",
    "    resultado = test_proc.somadora(dados[0][0], dados[0][1])\n",
    "elif dados[1] == \"-\":\n",
    "    resultado = test_proc.diminuidora(dados[0][0], dados[0][1])\n",
    "elif dados[1] == \"*\":\n",
    "    resultado = test_proc.multiplicadora(dados[0][0], dados[0][1])\n",
    "elif dados[1] == \"/\":\n",
    "    resultado = test_proc.divisora(dados[0][0], dados[0][1])\n",
    "else:\n",
    "    resultado = test_proc.divisora(dados[0][0], dados[0][1])\n",
    "        "
   ]
  },
  {
   "cell_type": "code",
   "execution_count": 19,
   "id": "c464fb3a-58cd-49f7-8a3b-bb2c478b26d2",
   "metadata": {
    "tags": []
   },
   "outputs": [],
   "source": [
    "def escolhedora(dados: list) -> float:\n",
    "    \"\"\"esta função escolhe a operação adequada de acordo com o usuário\"\"\"\n",
    "    if dados[1] == \"+\":\n",
    "        resultado = test_proc.somadora(dados[0][0], dados[0][1])\n",
    "    elif dados[1] == \"-\":\n",
    "        resultado = test_proc.diminuidora(dados[0][0], dados[0][1])\n",
    "    elif dados[1] == \"*\":\n",
    "        resultado = test_proc.multiplicadora(dados[0][0], dados[0][1])\n",
    "    elif dados[1] == \"/\":\n",
    "        resultado = test_proc.divisora(dados[0][0], dados[0][1])\n",
    "    else:\n",
    "        resultado = test_proc.divisora(dados[0][0], dados[0][1])\n",
    "    return resultado"
   ]
  },
  {
   "cell_type": "code",
   "execution_count": 20,
   "id": "c1410309-ba05-4899-b5c1-9062841f1cc1",
   "metadata": {
    "tags": []
   },
   "outputs": [],
   "source": [
    "def main():\n",
    "    dados = es.leitora()\n",
    "    resultado = escolhedora(dados)\n",
    "    es.escritora(resultado)"
   ]
  },
  {
   "cell_type": "code",
   "execution_count": null,
   "id": "c6bed7b0-6712-4a44-b4c7-e36b26abb3a4",
   "metadata": {},
   "outputs": [],
   "source": []
  }
 ],
 "metadata": {
  "kernelspec": {
   "display_name": "Python 3 (ipykernel)",
   "language": "python",
   "name": "python3"
  },
  "language_info": {
   "codemirror_mode": {
    "name": "ipython",
    "version": 3
   },
   "file_extension": ".py",
   "mimetype": "text/x-python",
   "name": "python",
   "nbconvert_exporter": "python",
   "pygments_lexer": "ipython3",
   "version": "3.11.5"
  }
 },
 "nbformat": 4,
 "nbformat_minor": 5
}
