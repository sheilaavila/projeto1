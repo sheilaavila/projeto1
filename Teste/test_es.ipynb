{
 "cells": [
  {
   "cell_type": "markdown",
   "id": "21de4933-615c-4ed9-b5e8-ff01e4b57c9a",
   "metadata": {},
   "source": [
    "# Módulo de entrada e saída\n",
    "Esse módulo oferece funções de entrada e saída de dados."
   ]
  },
  {
   "cell_type": "code",
   "execution_count": 1,
   "id": "b2fa361c-116c-4977-9e6a-8816c0fb0fac",
   "metadata": {
    "tags": []
   },
   "outputs": [
    {
     "name": "stdin",
     "output_type": "stream",
     "text": [
      "digite o primeiro número que deseja operar 4\n"
     ]
    }
   ],
   "source": [
    "# Entrada de dados\n",
    "\n",
    "numero1 = input(\"digite o primeiro número que deseja operar\")"
   ]
  },
  {
   "cell_type": "code",
   "execution_count": 2,
   "id": "7c9669df-705e-4090-8659-3663534f60da",
   "metadata": {
    "tags": []
   },
   "outputs": [
    {
     "data": {
      "text/plain": [
       "'4'"
      ]
     },
     "execution_count": 2,
     "metadata": {},
     "output_type": "execute_result"
    }
   ],
   "source": [
    "numero1"
   ]
  },
  {
   "cell_type": "markdown",
   "id": "026b6423-99e2-4c83-a99f-92bc3a26021c",
   "metadata": {
    "tags": []
   },
   "source": [
    "# Transformei a entrada de dados em um numero do tipo float\n",
    "\n",
    "numero1 = float(input(\"digite o primeiro número que deseja operar\"))"
   ]
  },
  {
   "cell_type": "code",
   "execution_count": 7,
   "id": "f0d0c338-45be-4e4f-9921-65c81c16cd0d",
   "metadata": {
    "tags": []
   },
   "outputs": [
    {
     "name": "stdin",
     "output_type": "stream",
     "text": [
      "digite o primeiro número que deseja operar 4\n"
     ]
    }
   ],
   "source": [
    "# Transformei a entrada de dados em um numero do tipo float\n",
    "\n",
    "numero1 = float(input(\"digite o primeiro número que deseja operar\"))"
   ]
  },
  {
   "cell_type": "code",
   "execution_count": 8,
   "id": "1b7359e4-a7cf-498e-a00b-4391b9435d00",
   "metadata": {
    "tags": []
   },
   "outputs": [
    {
     "data": {
      "text/plain": [
       "12.0"
      ]
     },
     "execution_count": 8,
     "metadata": {},
     "output_type": "execute_result"
    }
   ],
   "source": [
    "numero1+8"
   ]
  },
  {
   "cell_type": "code",
   "execution_count": 21,
   "id": "40601fe8-5ae0-41c6-b174-4c5e4975369f",
   "metadata": {
    "tags": []
   },
   "outputs": [
    {
     "name": "stdin",
     "output_type": "stream",
     "text": [
      "digite o primeiro número que deseja operar 1\n",
      "digite o primeiro número que deseja operar 1\n"
     ]
    },
    {
     "data": {
      "text/plain": [
       "[1.0, 1.0]"
      ]
     },
     "execution_count": 21,
     "metadata": {},
     "output_type": "execute_result"
    }
   ],
   "source": [
    "def leitora():\n",
    "    i = 0\n",
    "    numeros = []\n",
    "    while i < 2:\n",
    "        numeros.append(float(input(\"digite o primeiro número que deseja operar\")))\n",
    "        i+=1\n",
    "    return numeros\n",
    "    \n",
    "leitora()"
   ]
  },
  {
   "cell_type": "code",
   "execution_count": 28,
   "id": "ce2d52eb-9736-49a7-8a00-2f01ad7cf1a4",
   "metadata": {
    "tags": []
   },
   "outputs": [
    {
     "name": "stdin",
     "output_type": "stream",
     "text": [
      "digite o primeiro número 1 que deseja operar 1\n",
      "digite o primeiro número 2 que deseja operar 1\n"
     ]
    },
    {
     "data": {
      "text/plain": [
       "[1.0, 1.0]"
      ]
     },
     "execution_count": 28,
     "metadata": {},
     "output_type": "execute_result"
    }
   ],
   "source": [
    "# Função que lê números sem repetir a frase\n",
    "\n",
    "def leitora_numeros()-> list: \n",
    "    \"\"\" Está função \"\"\"\n",
    "    i = 0\n",
    "    numeros = []\n",
    "    while i < 2:\n",
    "        numeros.append(float(input(f\"digite o primeiro número {i+1} que deseja operar\")))\n",
    "        i+=1\n",
    "    return numeros\n",
    "    \n",
    "leitora_numeros()"
   ]
  },
  {
   "cell_type": "code",
   "execution_count": 29,
   "id": "4f95d8ea-8562-432f-ae6f-314d50de7f7f",
   "metadata": {
    "tags": []
   },
   "outputs": [
    {
     "name": "stdin",
     "output_type": "stream",
     "text": [
      "Digite a operação que deseja realizar.\n",
      "Pressione + para adição;\n",
      "- para subtração;\n",
      "* para multiplicação;\n",
      "/ para divisão 0\n"
     ]
    }
   ],
   "source": [
    "# Função que lê a operação que deve ser executada\n",
    "\n",
    "operacao = input(\"\"\"Digite a operação que deseja realizar.\n",
    "Pressione + para adição;\n",
    "- para subtração;\n",
    "* para multiplicação;\n",
    "/ para divisão\"\"\")"
   ]
  },
  {
   "cell_type": "code",
   "execution_count": 30,
   "id": "cee77af1-ffcc-4716-a062-952b4a932d44",
   "metadata": {
    "tags": []
   },
   "outputs": [],
   "source": [
    "def leitora_operacao() -> str: \n",
    "    operacao = input(\"\"\"Digite a operação que deseja realizar.\n",
    "Pressione + para adição;\n",
    "- para subtração;\n",
    "* para multiplicação;\n",
    "/ para divisão\"\"\")\n",
    "    return operacao"
   ]
  },
  {
   "cell_type": "code",
   "execution_count": 32,
   "id": "edd7dfce-b436-4c1b-931c-86e598ae0d3f",
   "metadata": {
    "tags": []
   },
   "outputs": [
    {
     "name": "stdin",
     "output_type": "stream",
     "text": [
      "digite o primeiro número 1 que deseja operar 2\n",
      "digite o primeiro número 2 que deseja operar 3\n",
      "Digite a operação que deseja realizar.\n",
      "Pressione + para adição;\n",
      "- para subtração;\n",
      "* para multiplicação;\n",
      "/ para divisão \n"
     ]
    },
    {
     "data": {
      "text/plain": [
       "[[2.0, 3.0], '']"
      ]
     },
     "execution_count": 32,
     "metadata": {},
     "output_type": "execute_result"
    }
   ],
   "source": [
    "def leitora() -> list:\n",
    "    lista_numeros = leitora_numeros()\n",
    "    operacao = leitora_operacao()\n",
    "    return [lista_numeros, operacao]\n",
    "leitora()"
   ]
  },
  {
   "cell_type": "markdown",
   "id": "c0e96166-2bc5-485c-9255-3331d521a2c5",
   "metadata": {},
   "source": [
    "Função de saída de dados"
   ]
  },
  {
   "cell_type": "code",
   "execution_count": 33,
   "id": "b83f4524-b94d-42ab-bb2e-8df9a770494b",
   "metadata": {
    "tags": []
   },
   "outputs": [
    {
     "name": "stdout",
     "output_type": "stream",
     "text": [
      "2\n"
     ]
    }
   ],
   "source": [
    "resultado = 2\n",
    "\n",
    "print(resultado)"
   ]
  },
  {
   "cell_type": "code",
   "execution_count": 35,
   "id": "e0c3a78c-c8ac-441d-b471-f86b40a2ab6d",
   "metadata": {
    "tags": []
   },
   "outputs": [
    {
     "name": "stdout",
     "output_type": "stream",
     "text": [
      "O resultado da operação é igual a (resultado).\n"
     ]
    }
   ],
   "source": [
    "print(f\"O resultado da operação é igual a (resultado).\")\n"
   ]
  },
  {
   "cell_type": "code",
   "execution_count": 44,
   "id": "a37aa599-d86e-427a-a6b5-07bf9431f523",
   "metadata": {
    "tags": []
   },
   "outputs": [
    {
     "name": "stdout",
     "output_type": "stream",
     "text": [
      "O resultado da operação é igual a (resultado).\n"
     ]
    }
   ],
   "source": [
    "def escritora(resultado):\n",
    "    \"\"\" Esta função coloca o resultado na tela\"\"\"\n",
    "    print(f\"O resultado da operação é igual a (resultado).\")\n",
    "    \n",
    "resultado = 9\n",
    "\n",
    "escritora(resultado)\n"
   ]
  },
  {
   "cell_type": "code",
   "execution_count": null,
   "id": "cd496557-405b-4af2-aaa2-3e2eb30889ea",
   "metadata": {},
   "outputs": [],
   "source": []
  }
 ],
 "metadata": {
  "kernelspec": {
   "display_name": "Python 3 (ipykernel)",
   "language": "python",
   "name": "python3"
  },
  "language_info": {
   "codemirror_mode": {
    "name": "ipython",
    "version": 3
   },
   "file_extension": ".py",
   "mimetype": "text/x-python",
   "name": "python",
   "nbconvert_exporter": "python",
   "pygments_lexer": "ipython3",
   "version": "3.11.5"
  }
 },
 "nbformat": 4,
 "nbformat_minor": 5
}
