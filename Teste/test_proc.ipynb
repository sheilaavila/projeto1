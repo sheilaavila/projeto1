{
 "cells": [
  {
   "cell_type": "markdown",
   "id": "93b99d2f-54d9-49a5-8c62-c5781b43fb55",
   "metadata": {},
   "source": [
    "# Módulo de processamento"
   ]
  },
  {
   "cell_type": "markdown",
   "id": "82d857a3-c9fb-49fa-8364-b2bcb6249a83",
   "metadata": {
    "tags": []
   },
   "source": [
    "## Requisito 1 - Desenvolvimento da função de soma"
   ]
  },
  {
   "cell_type": "code",
   "execution_count": 2,
   "id": "13088e48-0b82-4505-bddd-648007f34765",
   "metadata": {
    "tags": []
   },
   "outputs": [
    {
     "data": {
      "text/plain": [
       "5"
      ]
     },
     "execution_count": 2,
     "metadata": {},
     "output_type": "execute_result"
    }
   ],
   "source": [
    "2+3"
   ]
  },
  {
   "cell_type": "code",
   "execution_count": 3,
   "id": "0991584d-a77e-496b-a863-8ef44a3a1474",
   "metadata": {
    "tags": []
   },
   "outputs": [
    {
     "data": {
      "text/plain": [
       "10"
      ]
     },
     "execution_count": 3,
     "metadata": {},
     "output_type": "execute_result"
    }
   ],
   "source": [
    "x = 4\n",
    "y = 6\n",
    "x + y"
   ]
  },
  {
   "cell_type": "code",
   "execution_count": 7,
   "id": "35e0b986-3fd1-4657-9a0a-0860103093c2",
   "metadata": {
    "tags": []
   },
   "outputs": [
    {
     "data": {
      "text/plain": [
       "13"
      ]
     },
     "execution_count": 7,
     "metadata": {},
     "output_type": "execute_result"
    }
   ],
   "source": [
    "def somadora(x,y):\n",
    "    return x + y\n",
    "    \n",
    "somadora(5,8)"
   ]
  },
  {
   "cell_type": "code",
   "execution_count": 9,
   "id": "83d68d89-7503-4e93-a1cb-ce2d94e2e99c",
   "metadata": {
    "tags": []
   },
   "outputs": [
    {
     "data": {
      "text/plain": [
       "11"
      ]
     },
     "execution_count": 9,
     "metadata": {},
     "output_type": "execute_result"
    }
   ],
   "source": [
    "def somadora(numero1: float, numero2: float) -> float:\n",
    "    \"\"\"Esta função pega números reais e retorna a soam deles\"\"\"\n",
    "    return numero1 + numero2\n",
    "\n",
    "somadora(7,4)"
   ]
  },
  {
   "cell_type": "code",
   "execution_count": 13,
   "id": "3d748743-b551-49fa-98e1-463d9725c509",
   "metadata": {
    "tags": []
   },
   "outputs": [
    {
     "data": {
      "text/plain": [
       "3"
      ]
     },
     "execution_count": 13,
     "metadata": {},
     "output_type": "execute_result"
    }
   ],
   "source": [
    "8-5"
   ]
  },
  {
   "cell_type": "code",
   "execution_count": 14,
   "id": "3b38a70d-1153-4001-8380-39df0bece388",
   "metadata": {
    "tags": []
   },
   "outputs": [
    {
     "data": {
      "text/plain": [
       "9"
      ]
     },
     "execution_count": 14,
     "metadata": {},
     "output_type": "execute_result"
    }
   ],
   "source": [
    "x = 10\n",
    "y = 1\n",
    "x - y"
   ]
  },
  {
   "cell_type": "code",
   "execution_count": 15,
   "id": "70a83969-42f5-4aea-9b26-5a26da37af09",
   "metadata": {
    "tags": []
   },
   "outputs": [
    {
     "data": {
      "text/plain": [
       "5"
      ]
     },
     "execution_count": 15,
     "metadata": {},
     "output_type": "execute_result"
    }
   ],
   "source": [
    "def diminuidora(x,y):\n",
    "    return x - y\n",
    "\n",
    "diminuidora(9,4)"
   ]
  },
  {
   "cell_type": "code",
   "execution_count": 16,
   "id": "c95ffe54-85b6-44d8-8355-b593c867d1d7",
   "metadata": {
    "tags": []
   },
   "outputs": [
    {
     "data": {
      "text/plain": [
       "3"
      ]
     },
     "execution_count": 16,
     "metadata": {},
     "output_type": "execute_result"
    }
   ],
   "source": [
    "def diminuidora(numero1: float, numero2: float) -> float:\n",
    "    \"\"\" Está função pega números reais e retorna a soma deles\"\"\"\n",
    "    \n",
    "    return numero1 - numero2\n",
    "\n",
    "diminuidora(5,2)"
   ]
  },
  {
   "cell_type": "code",
   "execution_count": 17,
   "id": "e6f19c74-969d-479b-9c0a-0b31779cb29c",
   "metadata": {
    "tags": []
   },
   "outputs": [
    {
     "data": {
      "text/plain": [
       "40"
      ]
     },
     "execution_count": 17,
     "metadata": {},
     "output_type": "execute_result"
    }
   ],
   "source": [
    "def multiplicadora(x,y):\n",
    "    return x * y\n",
    "\n",
    "multiplicadora(8,5)"
   ]
  },
  {
   "cell_type": "code",
   "execution_count": 18,
   "id": "f8cac51f-2384-4688-90a4-11a192762cfb",
   "metadata": {
    "tags": []
   },
   "outputs": [
    {
     "data": {
      "text/plain": [
       "24"
      ]
     },
     "execution_count": 18,
     "metadata": {},
     "output_type": "execute_result"
    }
   ],
   "source": [
    "def multiplicadora(numero1: float, numero2: float) -> float:\n",
    "    \"\"\" Está função pega números reais e retorna a soma deles\"\"\"\n",
    "    return numero1 * numero2\n",
    "\n",
    "multiplicadora(4,6)"
   ]
  },
  {
   "cell_type": "code",
   "execution_count": 25,
   "id": "d552273b-f4c5-479d-8f7c-c22f9ae8ab51",
   "metadata": {
    "tags": []
   },
   "outputs": [
    {
     "data": {
      "text/plain": [
       "2.0"
      ]
     },
     "execution_count": 25,
     "metadata": {},
     "output_type": "execute_result"
    }
   ],
   "source": [
    "def divisora(x,y):\n",
    "    return x / y\n",
    "\n",
    "divisora(8,4)"
   ]
  },
  {
   "cell_type": "code",
   "execution_count": 32,
   "id": "490c9e90-9c92-4a70-88ea-86a752a30ed7",
   "metadata": {
    "tags": []
   },
   "outputs": [
    {
     "data": {
      "text/plain": [
       "3.0"
      ]
     },
     "execution_count": 32,
     "metadata": {},
     "output_type": "execute_result"
    }
   ],
   "source": [
    "def divisora(numero1: float, numero2: float) -> float:\n",
    "    \"\"\" Está função pega números reais e retorna a soma deles\"\"\"\n",
    "    if numero2 ==0:\n",
    "        resultado = \"não existe divisão por zero\"\n",
    "    else:\n",
    "        resultado = numero1/numero2 \n",
    "    return resultado\n",
    "\n",
    "divisora (9,3)"
   ]
  },
  {
   "cell_type": "code",
   "execution_count": null,
   "id": "5a8cf96a-1598-48ac-bfac-19631df901bd",
   "metadata": {},
   "outputs": [],
   "source": []
  }
 ],
 "metadata": {
  "kernelspec": {
   "display_name": "Python 3 (ipykernel)",
   "language": "python",
   "name": "python3"
  },
  "language_info": {
   "codemirror_mode": {
    "name": "ipython",
    "version": 3
   },
   "file_extension": ".py",
   "mimetype": "text/x-python",
   "name": "python",
   "nbconvert_exporter": "python",
   "pygments_lexer": "ipython3",
   "version": "3.11.5"
  }
 },
 "nbformat": 4,
 "nbformat_minor": 5
}
